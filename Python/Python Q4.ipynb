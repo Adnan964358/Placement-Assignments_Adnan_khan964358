{
 "cells": [
  {
   "cell_type": "raw",
   "id": "0a38edde",
   "metadata": {},
   "source": [
    "Question 4 -\n",
    "Write a program to download the data from the link given below and then read the data and convert the into\n",
    "the proper structure and return it as a CSV file.\n",
    "Link - https://data.nasa.gov/resource/y77d-th95.json\n",
    "Note - Write code comments wherever needed for code understanding.\n",
    "\n",
    "Sample Data -\n",
    "\n",
    "Excepted Output Data Attributes\n",
    "● Name of Earth Meteorite - string id - ID of Earth\n",
    "● Meteorite - int nametype - string recclass - string\n",
    "● mass - Mass of Earth Meteorite - float year - Year at which Earth\n",
    "● Meteorite was hit - datetime format reclat - float recclong - float\n",
    "● point coordinates - list of int"
   ]
  },
  {
   "cell_type": "code",
   "execution_count": 1,
   "id": "a3117d7e",
   "metadata": {},
   "outputs": [
    {
     "name": "stdout",
     "output_type": "stream",
     "text": [
      "Data has been converted and saved to: earth_meteorites.csv\n"
     ]
    }
   ],
   "source": [
    "#ans:-\n",
    "import requests\n",
    "import json\n",
    "import csv\n",
    "\n",
    "def download_and_convert_to_csv(url):\n",
    "    # Download the data from the provided link\n",
    "    response = requests.get(url)\n",
    "    data = response.json()\n",
    "\n",
    "    # Define the desired attributes for the output data\n",
    "    output_attributes = [\n",
    "        \"name\",\n",
    "        \"id\",\n",
    "        \"nametype\",\n",
    "        \"recclass\",\n",
    "        \"mass (g)\",\n",
    "        \"year\",\n",
    "        \"reclat\",\n",
    "        \"reclong\"\n",
    "    ]\n",
    "\n",
    "    # Open a CSV file for writing with UTF-8 encoding\n",
    "    csv_filename = \"earth_meteorites.csv\"\n",
    "    with open(csv_filename, mode=\"w\", newline=\"\", encoding=\"utf-8\") as csv_file:\n",
    "        writer = csv.DictWriter(csv_file, fieldnames=output_attributes)\n",
    "\n",
    "        # Write the header row\n",
    "        writer.writeheader()\n",
    "\n",
    "        # Write the data rows\n",
    "        for entry in data:\n",
    "            formatted_entry = {\n",
    "                \"name\": entry.get(\"name\", \"\"),\n",
    "                \"id\": entry.get(\"id\", \"\"),\n",
    "                \"nametype\": entry.get(\"nametype\", \"\"),\n",
    "                \"recclass\": entry.get(\"recclass\", \"\"),\n",
    "                \"mass (g)\": entry.get(\"mass (g)\", \"\"),\n",
    "                \"year\": entry.get(\"year\", \"\"),\n",
    "                \"reclat\": entry.get(\"reclat\", \"\"),\n",
    "                \"reclong\": entry.get(\"reclong\", \"\")\n",
    "            }\n",
    "            writer.writerow(formatted_entry)\n",
    "\n",
    "    return csv_filename\n",
    "\n",
    "# Example usage\n",
    "url = \"https://data.nasa.gov/resource/y77d-th95.json\"\n",
    "csv_file = download_and_convert_to_csv(url)\n",
    "print(\"Data has been converted and saved to:\", csv_file)\n"
   ]
  }
 ],
 "metadata": {
  "kernelspec": {
   "display_name": "Python 3 (ipykernel)",
   "language": "python",
   "name": "python3"
  },
  "language_info": {
   "codemirror_mode": {
    "name": "ipython",
    "version": 3
   },
   "file_extension": ".py",
   "mimetype": "text/x-python",
   "name": "python",
   "nbconvert_exporter": "python",
   "pygments_lexer": "ipython3",
   "version": "3.9.13"
  }
 },
 "nbformat": 4,
 "nbformat_minor": 5
}
