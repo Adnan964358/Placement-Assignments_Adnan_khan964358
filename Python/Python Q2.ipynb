{
 "cells": [
  {
   "cell_type": "raw",
   "id": "78a744f3",
   "metadata": {},
   "source": [
    "Question 2: -\n",
    "Consider a string to be valid if all characters of the string appear the same number of times. It is also valid if\n",
    "he can remove just one character at the index in the string, and the remaining characters will occur the same\n",
    "number of times. Given a string, determine if it is valid. If so, return YES , otherwise return NO .\n",
    "\n",
    "Note - You have to write at least 2 additional test cases in which your program will run successfully and provide\n",
    "an explanation for the same.\n",
    "Example input 1 - s = “abc”. This is a valid string because frequencies are { “a”: 1, “b”: 1, “c”: 1 }\n",
    "Example output 1- YES\n",
    "Example input 2 - s “abcc”. This string is not valid as we can remove only 1 occurrence of “c”. That leaves\n",
    "character frequencies of { “a”: 1, “b”: 1 , “c”: 2 }\n",
    "Example output 2 - NO"
   ]
  },
  {
   "cell_type": "code",
   "execution_count": 1,
   "id": "f0040a40",
   "metadata": {},
   "outputs": [
    {
     "name": "stdout",
     "output_type": "stream",
     "text": [
      "YES\n"
     ]
    }
   ],
   "source": [
    "from collections import Counter\n",
    "\n",
    "def is_valid_string(string):\n",
    "    char_count = Counter(string)\n",
    "\n",
    "    # Count the frequency of each character\n",
    "    frequencies = Counter(char_count.values())\n",
    "\n",
    "    if len(frequencies) == 1:\n",
    "        # All characters have the same frequency\n",
    "        return \"YES\"\n",
    "    elif len(frequencies) == 2:\n",
    "        # Check if we can remove one character to make all frequencies the same\n",
    "        (min_freq, min_freq_count), (max_freq, max_freq_count) = frequencies.items()\n",
    "        if (min_freq == 1 and min_freq_count == 1) or (max_freq - min_freq == 1 and max_freq_count == 1):\n",
    "            return \"YES\"\n",
    "\n",
    "    return \"NO\"\n",
    "\n",
    "# Example usage\n",
    "input_string = \"abc\"\n",
    "result = is_valid_string(input_string)\n",
    "print(result)\n"
   ]
  },
  {
   "cell_type": "code",
   "execution_count": 2,
   "id": "8ea66d96",
   "metadata": {},
   "outputs": [
    {
     "name": "stdout",
     "output_type": "stream",
     "text": [
      "NO\n"
     ]
    }
   ],
   "source": [
    "from collections import Counter\n",
    "\n",
    "def is_valid_string(string):\n",
    "    char_count = Counter(string)\n",
    "\n",
    "    # Count the frequency of each character\n",
    "    frequencies = Counter(char_count.values())\n",
    "\n",
    "    if len(frequencies) == 1:\n",
    "        # All characters have the same frequency\n",
    "        return \"YES\"\n",
    "    elif len(frequencies) == 2:\n",
    "        # Check if we can remove one character to make all frequencies the same\n",
    "        (min_freq, min_freq_count), (max_freq, max_freq_count) = frequencies.items()\n",
    "        if (min_freq == 1 and min_freq_count == 1) or (max_freq - min_freq == 1 and max_freq_count == 1):\n",
    "            return \"YES\"\n",
    "\n",
    "    return \"NO\"\n",
    "\n",
    "# Example usage\n",
    "input_string = \"abccc\"\n",
    "result = is_valid_string(input_string)\n",
    "print(result)\n"
   ]
  }
 ],
 "metadata": {
  "kernelspec": {
   "display_name": "Python 3 (ipykernel)",
   "language": "python",
   "name": "python3"
  },
  "language_info": {
   "codemirror_mode": {
    "name": "ipython",
    "version": 3
   },
   "file_extension": ".py",
   "mimetype": "text/x-python",
   "name": "python",
   "nbconvert_exporter": "python",
   "pygments_lexer": "ipython3",
   "version": "3.9.13"
  }
 },
 "nbformat": 4,
 "nbformat_minor": 5
}
