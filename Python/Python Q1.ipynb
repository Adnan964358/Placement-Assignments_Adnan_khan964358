{
 "cells": [
  {
   "cell_type": "raw",
   "id": "508c0294",
   "metadata": {},
   "source": [
    "Question 1: -\n",
    "Write a program that takes a string as input, and counts the frequency of each word in the string, there might\n",
    "be repeated characters in the string. Your task is to find the highest frequency and returns the length of the\n",
    "highest-frequency word.\n",
    "\n",
    "Note - You have to write at least 2 additional test cases in which your program will run successfully and provide\n",
    "an explanation for the same.\n",
    "Example input - string = “write write write all the number from from from 1 to 100”\n",
    "Example output - 5\n",
    "Explanation - From the given string we can note that the most frequent words are “write” and “from” and\n",
    "the maximum value of both the values is “write” and its corresponding length is 5"
   ]
  },
  {
   "cell_type": "code",
   "execution_count": 2,
   "id": "3e694203",
   "metadata": {},
   "outputs": [
    {
     "name": "stdout",
     "output_type": "stream",
     "text": [
      "Length of the word with the highest frequency: 7\n"
     ]
    }
   ],
   "source": [
    "#ANS:-\n",
    "def highest_frequency_length(string):\n",
    "    word_count = {}\n",
    "    for word in string.split():\n",
    "        word_count[word] = word_count.get(word, 0) + 1\n",
    "\n",
    "    highest_frequency = max(word_count.values(), default=0)\n",
    "    highest_frequency_length = max(len(word) for word, count in word_count.items() if count == highest_frequency)\n",
    "\n",
    "    return highest_frequency_length\n",
    "\n",
    "# Examples\n",
    "input_string = \"Welcome to the Ineuron Data science coure\"\n",
    "result = highest_frequency_length(input_string)\n",
    "print(\"Length of the word with the highest frequency:\", result)\n"
   ]
  }
 ],
 "metadata": {
  "kernelspec": {
   "display_name": "Python 3 (ipykernel)",
   "language": "python",
   "name": "python3"
  },
  "language_info": {
   "codemirror_mode": {
    "name": "ipython",
    "version": 3
   },
   "file_extension": ".py",
   "mimetype": "text/x-python",
   "name": "python",
   "nbconvert_exporter": "python",
   "pygments_lexer": "ipython3",
   "version": "3.9.13"
  }
 },
 "nbformat": 4,
 "nbformat_minor": 5
}
