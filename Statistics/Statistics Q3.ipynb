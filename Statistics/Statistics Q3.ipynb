{
 "cells": [
  {
   "cell_type": "raw",
   "id": "c3199bcf",
   "metadata": {},
   "source": [
    "Q-3. Consider the ‘Blood Pressure Before’ and ‘Blood Pressure After’ columns from the\n",
    "data and calculate the following\n",
    "\n",
    "https://drive.google.com/file/d/1mCjtYHiX--mMUjicuaP2gH3k-SnFxt8Y/view?usp=share_\n",
    "\n",
    "a. Measure the dispersion in both and interpret the results.\n",
    "b. Calculate mean and 5% confidence interval and plot it in a graph\n",
    "c. Calculate the Mean absolute deviation and Standard deviation and interpret\n",
    "the results.\n",
    "d. Calculate the correlation coefficient and check the significance of it at 1% level\n",
    "of significance."
   ]
  },
  {
   "cell_type": "code",
   "execution_count": 3,
   "id": "fcc330da",
   "metadata": {},
   "outputs": [
    {
     "name": "stdout",
     "output_type": "stream",
     "text": [
      "CSV file 'output.csv' created successfully.\n"
     ]
    }
   ],
   "source": [
    "import requests\n",
    "\n",
    "def download_dataset_from_google_drive(url, output_file):\n",
    "    file_id = url.split(\"/\")[-2]\n",
    "    base_url = \"https://docs.google.com/uc?export=download\"\n",
    "\n",
    "    session = requests.Session()\n",
    "    response = session.get(base_url, params={\"id\": file_id}, stream=True)\n",
    "    token = get_confirm_token(response)\n",
    "\n",
    "    if token:\n",
    "        params = {\"id\": file_id, \"confirm\": token}\n",
    "        response = session.get(base_url, params=params, stream=True)\n",
    "\n",
    "    save_response_content(response, output_file)\n",
    "    print(f\"CSV file '{output_file}' created successfully.\")\n",
    "\n",
    "def get_confirm_token(response):\n",
    "    for key, value in response.cookies.items():\n",
    "        if key.startswith(\"download_warning\"):\n",
    "            return value\n",
    "\n",
    "    return None\n",
    "\n",
    "def save_response_content(response, output_file):\n",
    "    CHUNK_SIZE = 32768\n",
    "\n",
    "    with open(output_file, \"wb\") as file:\n",
    "        for chunk in response.iter_content(CHUNK_SIZE):\n",
    "            if chunk:\n",
    "                file.write(chunk)\n",
    "\n",
    "# Example usage\n",
    "url = \"https://drive.google.com/file/d/1mCjtYHiX--mMUjicuaP2gH3k-SnFxt8Y/view?usp=sharing\"\n",
    "output_file = \"output.csv\"\n",
    "download_dataset_from_google_drive(url, output_file)\n"
   ]
  },
  {
   "cell_type": "code",
   "execution_count": 2,
   "id": "1c729eaa",
   "metadata": {},
   "outputs": [
    {
     "data": {
      "text/html": [
       "<div>\n",
       "<style scoped>\n",
       "    .dataframe tbody tr th:only-of-type {\n",
       "        vertical-align: middle;\n",
       "    }\n",
       "\n",
       "    .dataframe tbody tr th {\n",
       "        vertical-align: top;\n",
       "    }\n",
       "\n",
       "    .dataframe thead th {\n",
       "        text-align: right;\n",
       "    }\n",
       "</style>\n",
       "<table border=\"1\" class=\"dataframe\">\n",
       "  <thead>\n",
       "    <tr style=\"text-align: right;\">\n",
       "      <th></th>\n",
       "      <th>Patient ID</th>\n",
       "      <th>Blood Pressure Before (mmHg)</th>\n",
       "      <th>Blood Pressure After (mmHg)</th>\n",
       "    </tr>\n",
       "  </thead>\n",
       "  <tbody>\n",
       "    <tr>\n",
       "      <th>0</th>\n",
       "      <td>1</td>\n",
       "      <td>130</td>\n",
       "      <td>120</td>\n",
       "    </tr>\n",
       "    <tr>\n",
       "      <th>1</th>\n",
       "      <td>2</td>\n",
       "      <td>142</td>\n",
       "      <td>135</td>\n",
       "    </tr>\n",
       "    <tr>\n",
       "      <th>2</th>\n",
       "      <td>3</td>\n",
       "      <td>120</td>\n",
       "      <td>118</td>\n",
       "    </tr>\n",
       "    <tr>\n",
       "      <th>3</th>\n",
       "      <td>4</td>\n",
       "      <td>135</td>\n",
       "      <td>127</td>\n",
       "    </tr>\n",
       "    <tr>\n",
       "      <th>4</th>\n",
       "      <td>5</td>\n",
       "      <td>148</td>\n",
       "      <td>140</td>\n",
       "    </tr>\n",
       "  </tbody>\n",
       "</table>\n",
       "</div>"
      ],
      "text/plain": [
       "   Patient ID   Blood Pressure Before (mmHg)   Blood Pressure After (mmHg)\n",
       "0           1                            130                           120\n",
       "1           2                            142                           135\n",
       "2           3                            120                           118\n",
       "3           4                            135                           127\n",
       "4           5                            148                           140"
      ]
     },
     "execution_count": 2,
     "metadata": {},
     "output_type": "execute_result"
    }
   ],
   "source": [
    "import pandas as pd\n",
    "import numpy as np\n",
    "import matplotlib.pyplot as plt\n",
    "import scipy.stats as stats\n",
    "df = pd.read_csv(\"output.csv\")\n",
    "df.head()"
   ]
  },
  {
   "cell_type": "code",
   "execution_count": 4,
   "id": "7c5fb72e",
   "metadata": {},
   "outputs": [
    {
     "name": "stdout",
     "output_type": "stream",
     "text": [
      "Dispersion Before: 43.53727272727271\n",
      "Dispersion After: 47.4448484848485\n"
     ]
    }
   ],
   "source": [
    "#Q1. a. Measure the dispersion in both and interpret the results.\n",
    "# Strip whitespace from column names\n",
    "df.columns = df.columns.str.strip()\n",
    "\n",
    "# Dispersion\n",
    "disp_before = df['Blood Pressure Before (mmHg)'].var()\n",
    "disp_after = df['Blood Pressure After (mmHg)'].var()\n",
    "\n",
    "print(f\"Dispersion Before: {disp_before}\")\n",
    "print(f\"Dispersion After: {disp_after}\")"
   ]
  },
  {
   "cell_type": "code",
   "execution_count": 5,
   "id": "c2b7f6f5",
   "metadata": {},
   "outputs": [
    {
     "name": "stdout",
     "output_type": "stream",
     "text": [
      "\n",
      "Mean and 5% Confidence Interval:\n",
      "Before: Mean = 133.91 Confidence Interval = (132.60075849172767, 135.21924150827232)\n",
      "After: Mean = 128.36 Confidence Interval = (126.99326697818071, 129.7267330218193)\n"
     ]
    }
   ],
   "source": [
    "#Q2.b. Calculate mean and 5% confidence interval and plot it in a graph\n",
    "mean_before = df[\"Blood Pressure Before (mmHg)\"].mean()\n",
    "mean_after = df[\"Blood Pressure After (mmHg)\"].mean()\n",
    "confidence_interval_before = stats.t.interval(0.95, len(df)-1, loc=mean_before, scale=df[\"Blood Pressure Before (mmHg)\"].sem())\n",
    "confidence_interval_after = stats.t.interval(0.95, len(df)-1, loc=mean_after, scale=df[\"Blood Pressure After (mmHg)\"].sem())\n",
    "print(\"\\nMean and 5% Confidence Interval:\")\n",
    "print(\"Before: Mean =\", mean_before, \"Confidence Interval =\", confidence_interval_before)\n",
    "print(\"After: Mean =\", mean_after, \"Confidence Interval =\", confidence_interval_after)\n"
   ]
  },
  {
   "cell_type": "code",
   "execution_count": 6,
   "id": "ec371986",
   "metadata": {},
   "outputs": [
    {
     "name": "stdout",
     "output_type": "stream",
     "text": [
      "\n",
      "Mean Absolute Deviation (Mean) and Standard Deviation (SD):\n",
      "Before: Mean = 5.7118 SD = 6.598278012275075\n",
      "After: Mean = 5.9 SD = 6.8880221025232276\n"
     ]
    }
   ],
   "source": [
    "#Q3.c. Calculate the Mean absolute deviation and Standard deviation and interpret the results.\n",
    "mean_before = df[\"Blood Pressure Before (mmHg)\"].mad()\n",
    "mean_after = df[\"Blood Pressure After (mmHg)\"].mad()\n",
    "sd_before = df[\"Blood Pressure Before (mmHg)\"].std()\n",
    "sd_after = df[\"Blood Pressure After (mmHg)\"].std()\n",
    "print(\"\\nMean Absolute Deviation (Mean) and Standard Deviation (SD):\")\n",
    "print(\"Before: Mean =\", mean_before, \"SD =\", sd_before)\n",
    "print(\"After: Mean =\", mean_after, \"SD =\", sd_after)"
   ]
  },
  {
   "cell_type": "code",
   "execution_count": 7,
   "id": "aeee7774",
   "metadata": {},
   "outputs": [
    {
     "name": "stdout",
     "output_type": "stream",
     "text": [
      "\n",
      "Correlation Coefficient and Significance Test:\n",
      "Correlation Coefficient = 0.9779485966556019\n",
      "P-value = 1.8097381433068541e-68\n",
      "The correlation coefficient is significant at the 1% level.\n"
     ]
    }
   ],
   "source": [
    "#Q4.d. Calculate the correlation coefficient and check the significance of it at 1% level of significance.\n",
    "correlation_coefficient, p_value = stats.pearsonr(df[\"Blood Pressure Before (mmHg)\"], df[\"Blood Pressure After (mmHg)\"])\n",
    "significance_level = 0.01\n",
    "\n",
    "print(\"\\nCorrelation Coefficient and Significance Test:\")\n",
    "print(\"Correlation Coefficient =\", correlation_coefficient)\n",
    "print(\"P-value =\", p_value)\n",
    "\n",
    "if p_value < significance_level:\n",
    "    print(\"The correlation coefficient is significant at the 1% level.\")\n",
    "else:\n",
    "    print(\"The correlation coefficient is not significant at the 1% level.\")"
   ]
  }
 ],
 "metadata": {
  "kernelspec": {
   "display_name": "Python 3 (ipykernel)",
   "language": "python",
   "name": "python3"
  },
  "language_info": {
   "codemirror_mode": {
    "name": "ipython",
    "version": 3
   },
   "file_extension": ".py",
   "mimetype": "text/x-python",
   "name": "python",
   "nbconvert_exporter": "python",
   "pygments_lexer": "ipython3",
   "version": "3.9.13"
  }
 },
 "nbformat": 4,
 "nbformat_minor": 5
}
