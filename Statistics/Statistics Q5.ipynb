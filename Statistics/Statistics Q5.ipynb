{
 "cells": [
  {
   "cell_type": "raw",
   "id": "9ee5cd2e",
   "metadata": {},
   "source": [
    "Q-5. A certain city has two taxi companies: Company A has 80% of the taxis and\n",
    "Company B has 20% of the taxis. Company A's taxis have a 95% success rate for picking\n",
    "up passengers on time, while Company B's taxis have a 90% success rate. If a randomly\n",
    "selected taxi is late, what is the probability that it belongs to Company A?"
   ]
  },
  {
   "cell_type": "code",
   "execution_count": 1,
   "id": "75a27601",
   "metadata": {},
   "outputs": [
    {
     "name": "stdout",
     "output_type": "stream",
     "text": [
      "The probability that a randomly selected late taxi belongs to Company A is: 0.6667\n"
     ]
    }
   ],
   "source": [
    "#Ans:-\n",
    "# Probability of Company A having the taxis\n",
    "P_A = 0.8\n",
    "\n",
    "# Probability of Company B having the taxis\n",
    "P_B = 0.2\n",
    "\n",
    "# Probability of a taxi being late given it belongs to Company A\n",
    "P_L_given_A = 0.05\n",
    "\n",
    "# Probability of a taxi being late given it belongs to Company B\n",
    "P_L_given_B = 0.1\n",
    "\n",
    "# Calculate the probability of a taxi being late\n",
    "P_L = (P_L_given_A * P_A) + (P_L_given_B * P_B)\n",
    "\n",
    "# Calculate the probability that a randomly selected late taxi belongs to Company A\n",
    "P_A_given_L = (P_L_given_A * P_A) / P_L\n",
    "\n",
    "# Print the result\n",
    "print(f\"The probability that a randomly selected late taxi belongs to Company A is: {P_A_given_L:.4f}\")\n"
   ]
  }
 ],
 "metadata": {
  "kernelspec": {
   "display_name": "Python 3 (ipykernel)",
   "language": "python",
   "name": "python3"
  },
  "language_info": {
   "codemirror_mode": {
    "name": "ipython",
    "version": 3
   },
   "file_extension": ".py",
   "mimetype": "text/x-python",
   "name": "python",
   "nbconvert_exporter": "python",
   "pygments_lexer": "ipython3",
   "version": "3.9.13"
  }
 },
 "nbformat": 4,
 "nbformat_minor": 5
}
