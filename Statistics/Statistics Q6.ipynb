{
 "cells": [
  {
   "cell_type": "raw",
   "id": "6bbe3fe7",
   "metadata": {},
   "source": [
    "Q-6. A pharmaceutical company is developing a drug that is supposed to reduce blood\n",
    "pressure. They conduct a clinical trial with 100 patients and record their blood\n",
    "pressure before and after taking the drug. The company wants to know if the change\n",
    "in blood pressure follows a normal distribution.\n",
    "\n",
    "https://drive.google.com/file/d/1mCjtYHiX--mMUjicuaP2gH3k-SnFxt8Y/view?usp=share_"
   ]
  },
  {
   "cell_type": "code",
   "execution_count": 1,
   "id": "4fe39967",
   "metadata": {},
   "outputs": [
    {
     "name": "stdout",
     "output_type": "stream",
     "text": [
      "Shapiro-Wilk test statistic: 0.9689664244651794\n",
      "p-value: 0.22020375728607178\n",
      "The data follows a normal distribution.\n"
     ]
    }
   ],
   "source": [
    "#Ans:-\n",
    "from scipy import stats\n",
    "\n",
    "# Blood pressure changes\n",
    "blood_pressure_changes = [120-130, 135-142, 118-120, 127-135, 140-148, 118-122, 129-137, 124-130, 137-142, 125-128,\n",
    "                          129-135, 132-140, 125-132, 136-145, 118-124, 122-128, 130-136, 139-143, 123-127, 132-139,\n",
    "                          131-135, 126-131, 120-127, 123-130, 139-142, 122-128, 129-136, 136-140, 127-132, 140-145,\n",
    "                          119-124, 121-128, 129-136, 137-143, 122-127, 135-139, 129-135, 124-131, 119-127, 124-130,\n",
    "                          139-142, 123-128, 131-136, 135-140, 127-132, 141-145, 118-124, 121-128, 129-136]\n",
    "\n",
    "# Perform Shapiro-Wilk test\n",
    "statistic, p_value = stats.shapiro(blood_pressure_changes)\n",
    "\n",
    "# Print the results\n",
    "alpha = 0.05\n",
    "print(f\"Shapiro-Wilk test statistic: {statistic}\")\n",
    "print(f\"p-value: {p_value}\")\n",
    "\n",
    "if p_value > alpha:\n",
    "    print(\"The data follows a normal distribution.\")\n",
    "else:\n",
    "    print(\"The data does not follow a normal distribution.\")\n"
   ]
  }
 ],
 "metadata": {
  "kernelspec": {
   "display_name": "Python 3 (ipykernel)",
   "language": "python",
   "name": "python3"
  },
  "language_info": {
   "codemirror_mode": {
    "name": "ipython",
    "version": 3
   },
   "file_extension": ".py",
   "mimetype": "text/x-python",
   "name": "python",
   "nbconvert_exporter": "python",
   "pygments_lexer": "ipython3",
   "version": "3.9.13"
  }
 },
 "nbformat": 4,
 "nbformat_minor": 5
}
