{
 "cells": [
  {
   "cell_type": "raw",
   "id": "dcda6721",
   "metadata": {},
   "source": [
    "Q-1. A university wants to understand the relationship between the SAT scores of its\n",
    "applicants and their college GPA. They collect data on 500 students, including their SAT\n",
    "scores (out of 1600) and their college GPA (on a 4.0 scale). They find that the correlation\n",
    "coefficient between SAT scores and college GPA is 0.7. What does this correlation\n",
    "coefficient indicate about the relationship between SAT scores and college GPA?"
   ]
  },
  {
   "cell_type": "raw",
   "id": "375e81be",
   "metadata": {},
   "source": [
    "A correlation coefficient of 0.7 indicates a strong positive relationship between SAT scores and college GPA. a correlation coefficient of 0.7 suggests that as SAT scores increase, college GPA tends to increase as well. The positive sign indicates that the relationship is positive, meaning that higher SAT scores are associated with higher college GPAs."
   ]
  }
 ],
 "metadata": {
  "kernelspec": {
   "display_name": "Python 3 (ipykernel)",
   "language": "python",
   "name": "python3"
  },
  "language_info": {
   "codemirror_mode": {
    "name": "ipython",
    "version": 3
   },
   "file_extension": ".py",
   "mimetype": "text/x-python",
   "name": "python",
   "nbconvert_exporter": "python",
   "pygments_lexer": "ipython3",
   "version": "3.9.13"
  }
 },
 "nbformat": 4,
 "nbformat_minor": 5
}
